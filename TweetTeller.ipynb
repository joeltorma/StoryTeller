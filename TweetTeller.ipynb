{
 "cells": [
  {
   "cell_type": "code",
   "execution_count": 2,
   "metadata": {},
   "outputs": [
    {
     "name": "stdout",
     "output_type": "stream",
     "text": [
      "hej\n"
     ]
    }
   ],
   "source": [
    "run TweetTellsAStory.py"
   ]
  },
  {
   "cell_type": "code",
   "execution_count": 3,
   "metadata": {},
   "outputs": [
    {
     "name": "stderr",
     "output_type": "stream",
     "text": [
      "Using TensorFlow backend.\n"
     ]
    }
   ],
   "source": [
    "import numpy\n",
    "from keras.models import Sequential\n",
    "from keras.layers import Dense\n",
    "from keras.layers import Dropout\n",
    "from keras.layers import LSTM\n",
    "from keras.callbacks import ModelCheckpoint\n",
    "from keras.utils import np_utils"
   ]
  },
  {
   "cell_type": "code",
   "execution_count": null,
   "metadata": {
    "collapsed": true
   },
   "outputs": [],
   "source": []
  },
  {
   "cell_type": "code",
   "execution_count": 4,
   "metadata": {
    "collapsed": true
   },
   "outputs": [],
   "source": [
    "import pandas as pd"
   ]
  },
  {
   "cell_type": "code",
   "execution_count": 5,
   "metadata": {
    "collapsed": true
   },
   "outputs": [],
   "source": [
    "Trump = pd.read_csv(\"Trump.csv\")"
   ]
  },
  {
   "cell_type": "code",
   "execution_count": 6,
   "metadata": {},
   "outputs": [
    {
     "data": {
      "text/html": [
       "<div>\n",
       "<style>\n",
       "    .dataframe thead tr:only-child th {\n",
       "        text-align: right;\n",
       "    }\n",
       "\n",
       "    .dataframe thead th {\n",
       "        text-align: left;\n",
       "    }\n",
       "\n",
       "    .dataframe tbody tr th {\n",
       "        vertical-align: top;\n",
       "    }\n",
       "</style>\n",
       "<table border=\"1\" class=\"dataframe\">\n",
       "  <thead>\n",
       "    <tr style=\"text-align: right;\">\n",
       "      <th></th>\n",
       "      <th>Date</th>\n",
       "      <th>Time</th>\n",
       "      <th>Tweet_Text</th>\n",
       "      <th>Type</th>\n",
       "      <th>Media_Type</th>\n",
       "      <th>Hashtags</th>\n",
       "      <th>Tweet_Id</th>\n",
       "      <th>Tweet_Url</th>\n",
       "      <th>twt_favourites_IS_THIS_LIKE_QUESTION_MARK</th>\n",
       "      <th>Retweets</th>\n",
       "      <th>Unnamed: 10</th>\n",
       "      <th>Unnamed: 11</th>\n",
       "    </tr>\n",
       "  </thead>\n",
       "  <tbody>\n",
       "    <tr>\n",
       "      <th>0</th>\n",
       "      <td>16-11-11</td>\n",
       "      <td>15:26:37</td>\n",
       "      <td>Today we express our deepest gratitude to all ...</td>\n",
       "      <td>text</td>\n",
       "      <td>photo</td>\n",
       "      <td>ThankAVet</td>\n",
       "      <td>7.970000e+17</td>\n",
       "      <td>https://twitter.com/realDonaldTrump/status/797...</td>\n",
       "      <td>127213</td>\n",
       "      <td>41112</td>\n",
       "      <td>NaN</td>\n",
       "      <td>NaN</td>\n",
       "    </tr>\n",
       "    <tr>\n",
       "      <th>1</th>\n",
       "      <td>16-11-11</td>\n",
       "      <td>13:33:35</td>\n",
       "      <td>Busy day planned in New York. Will soon be mak...</td>\n",
       "      <td>text</td>\n",
       "      <td>NaN</td>\n",
       "      <td>NaN</td>\n",
       "      <td>7.970000e+17</td>\n",
       "      <td>https://twitter.com/realDonaldTrump/status/797...</td>\n",
       "      <td>141527</td>\n",
       "      <td>28654</td>\n",
       "      <td>NaN</td>\n",
       "      <td>NaN</td>\n",
       "    </tr>\n",
       "    <tr>\n",
       "      <th>2</th>\n",
       "      <td>16-11-11</td>\n",
       "      <td>11:14:20</td>\n",
       "      <td>Love the fact that the small groups of protest...</td>\n",
       "      <td>text</td>\n",
       "      <td>NaN</td>\n",
       "      <td>NaN</td>\n",
       "      <td>7.970000e+17</td>\n",
       "      <td>https://twitter.com/realDonaldTrump/status/797...</td>\n",
       "      <td>183729</td>\n",
       "      <td>50039</td>\n",
       "      <td>NaN</td>\n",
       "      <td>NaN</td>\n",
       "    </tr>\n",
       "    <tr>\n",
       "      <th>3</th>\n",
       "      <td>16-11-11</td>\n",
       "      <td>2:19:44</td>\n",
       "      <td>Just had a very open and successful presidenti...</td>\n",
       "      <td>text</td>\n",
       "      <td>NaN</td>\n",
       "      <td>NaN</td>\n",
       "      <td>7.970000e+17</td>\n",
       "      <td>https://twitter.com/realDonaldTrump/status/796...</td>\n",
       "      <td>214001</td>\n",
       "      <td>67010</td>\n",
       "      <td>NaN</td>\n",
       "      <td>NaN</td>\n",
       "    </tr>\n",
       "    <tr>\n",
       "      <th>4</th>\n",
       "      <td>16-11-11</td>\n",
       "      <td>2:10:46</td>\n",
       "      <td>A fantastic day in D.C. Met with President Oba...</td>\n",
       "      <td>text</td>\n",
       "      <td>NaN</td>\n",
       "      <td>NaN</td>\n",
       "      <td>7.970000e+17</td>\n",
       "      <td>https://twitter.com/realDonaldTrump/status/796...</td>\n",
       "      <td>178499</td>\n",
       "      <td>36688</td>\n",
       "      <td>NaN</td>\n",
       "      <td>NaN</td>\n",
       "    </tr>\n",
       "    <tr>\n",
       "      <th>5</th>\n",
       "      <td>16-11-10</td>\n",
       "      <td>19:31:27</td>\n",
       "      <td>Happy 241st birthday to the U.S. Marine Corps!...</td>\n",
       "      <td>text</td>\n",
       "      <td>photo</td>\n",
       "      <td>NaN</td>\n",
       "      <td>7.970000e+17</td>\n",
       "      <td>https://twitter.com/realDonaldTrump/status/796...</td>\n",
       "      <td>159176</td>\n",
       "      <td>44655</td>\n",
       "      <td>NaN</td>\n",
       "      <td>NaN</td>\n",
       "    </tr>\n",
       "    <tr>\n",
       "      <th>6</th>\n",
       "      <td>16-11-09</td>\n",
       "      <td>11:36:58</td>\n",
       "      <td>Such a beautiful and important evening! The fo...</td>\n",
       "      <td>text</td>\n",
       "      <td>NaN</td>\n",
       "      <td>NaN</td>\n",
       "      <td>7.960000e+17</td>\n",
       "      <td>https://twitter.com/realDonaldTrump/status/796...</td>\n",
       "      <td>627615</td>\n",
       "      <td>225164</td>\n",
       "      <td>NaN</td>\n",
       "      <td>NaN</td>\n",
       "    </tr>\n",
       "    <tr>\n",
       "      <th>7</th>\n",
       "      <td>16-11-09</td>\n",
       "      <td>2:48:27</td>\n",
       "      <td>Watching the returns at 9:45pm.\\n#ElectionNigh...</td>\n",
       "      <td>text</td>\n",
       "      <td>photo</td>\n",
       "      <td>ElectionNight;MAGA</td>\n",
       "      <td>7.960000e+17</td>\n",
       "      <td>https://twitter.com/realDonaldTrump/status/796...</td>\n",
       "      <td>185160</td>\n",
       "      <td>45492</td>\n",
       "      <td>NaN</td>\n",
       "      <td>NaN</td>\n",
       "    </tr>\n",
       "    <tr>\n",
       "      <th>8</th>\n",
       "      <td>16-11-09</td>\n",
       "      <td>1:35:15</td>\n",
       "      <td>RT @IvankaTrump: Such a surreal moment to vote...</td>\n",
       "      <td>text</td>\n",
       "      <td>NaN</td>\n",
       "      <td>NaN</td>\n",
       "      <td>7.960000e+17</td>\n",
       "      <td>https://twitter.com/realDonaldTrump/status/796...</td>\n",
       "      <td>99809</td>\n",
       "      <td>17169</td>\n",
       "      <td>NaN</td>\n",
       "      <td>NaN</td>\n",
       "    </tr>\n",
       "    <tr>\n",
       "      <th>9</th>\n",
       "      <td>16-11-08</td>\n",
       "      <td>23:20:39</td>\n",
       "      <td>RT @EricTrump: Join my family in this incredib...</td>\n",
       "      <td>text</td>\n",
       "      <td>NaN</td>\n",
       "      <td>MakeAmericaGreatAgain;VOTE</td>\n",
       "      <td>7.960000e+17</td>\n",
       "      <td>https://twitter.com/realDonaldTrump/status/796...</td>\n",
       "      <td>63868</td>\n",
       "      <td>19710</td>\n",
       "      <td>NaN</td>\n",
       "      <td>NaN</td>\n",
       "    </tr>\n",
       "  </tbody>\n",
       "</table>\n",
       "</div>"
      ],
      "text/plain": [
       "       Date      Time                                         Tweet_Text  \\\n",
       "0  16-11-11  15:26:37  Today we express our deepest gratitude to all ...   \n",
       "1  16-11-11  13:33:35  Busy day planned in New York. Will soon be mak...   \n",
       "2  16-11-11  11:14:20  Love the fact that the small groups of protest...   \n",
       "3  16-11-11   2:19:44  Just had a very open and successful presidenti...   \n",
       "4  16-11-11   2:10:46  A fantastic day in D.C. Met with President Oba...   \n",
       "5  16-11-10  19:31:27  Happy 241st birthday to the U.S. Marine Corps!...   \n",
       "6  16-11-09  11:36:58  Such a beautiful and important evening! The fo...   \n",
       "7  16-11-09   2:48:27  Watching the returns at 9:45pm.\\n#ElectionNigh...   \n",
       "8  16-11-09   1:35:15  RT @IvankaTrump: Such a surreal moment to vote...   \n",
       "9  16-11-08  23:20:39  RT @EricTrump: Join my family in this incredib...   \n",
       "\n",
       "   Type Media_Type                    Hashtags      Tweet_Id  \\\n",
       "0  text      photo                   ThankAVet  7.970000e+17   \n",
       "1  text        NaN                         NaN  7.970000e+17   \n",
       "2  text        NaN                         NaN  7.970000e+17   \n",
       "3  text        NaN                         NaN  7.970000e+17   \n",
       "4  text        NaN                         NaN  7.970000e+17   \n",
       "5  text      photo                         NaN  7.970000e+17   \n",
       "6  text        NaN                         NaN  7.960000e+17   \n",
       "7  text      photo          ElectionNight;MAGA  7.960000e+17   \n",
       "8  text        NaN                         NaN  7.960000e+17   \n",
       "9  text        NaN  MakeAmericaGreatAgain;VOTE  7.960000e+17   \n",
       "\n",
       "                                           Tweet_Url  \\\n",
       "0  https://twitter.com/realDonaldTrump/status/797...   \n",
       "1  https://twitter.com/realDonaldTrump/status/797...   \n",
       "2  https://twitter.com/realDonaldTrump/status/797...   \n",
       "3  https://twitter.com/realDonaldTrump/status/796...   \n",
       "4  https://twitter.com/realDonaldTrump/status/796...   \n",
       "5  https://twitter.com/realDonaldTrump/status/796...   \n",
       "6  https://twitter.com/realDonaldTrump/status/796...   \n",
       "7  https://twitter.com/realDonaldTrump/status/796...   \n",
       "8  https://twitter.com/realDonaldTrump/status/796...   \n",
       "9  https://twitter.com/realDonaldTrump/status/796...   \n",
       "\n",
       "   twt_favourites_IS_THIS_LIKE_QUESTION_MARK  Retweets  Unnamed: 10  \\\n",
       "0                                     127213     41112          NaN   \n",
       "1                                     141527     28654          NaN   \n",
       "2                                     183729     50039          NaN   \n",
       "3                                     214001     67010          NaN   \n",
       "4                                     178499     36688          NaN   \n",
       "5                                     159176     44655          NaN   \n",
       "6                                     627615    225164          NaN   \n",
       "7                                     185160     45492          NaN   \n",
       "8                                      99809     17169          NaN   \n",
       "9                                      63868     19710          NaN   \n",
       "\n",
       "   Unnamed: 11  \n",
       "0          NaN  \n",
       "1          NaN  \n",
       "2          NaN  \n",
       "3          NaN  \n",
       "4          NaN  \n",
       "5          NaN  \n",
       "6          NaN  \n",
       "7          NaN  \n",
       "8          NaN  \n",
       "9          NaN  "
      ]
     },
     "execution_count": 6,
     "metadata": {},
     "output_type": "execute_result"
    }
   ],
   "source": [
    "Trump.head(10)"
   ]
  },
  {
   "cell_type": "code",
   "execution_count": 7,
   "metadata": {},
   "outputs": [
    {
     "data": {
      "text/plain": [
       "0       Today we express our deepest gratitude to all ...\n",
       "1       Busy day planned in New York. Will soon be mak...\n",
       "2       Love the fact that the small groups of protest...\n",
       "3       Just had a very open and successful presidenti...\n",
       "4       A fantastic day in D.C. Met with President Oba...\n",
       "5       Happy 241st birthday to the U.S. Marine Corps!...\n",
       "6       Such a beautiful and important evening! The fo...\n",
       "7       Watching the returns at 9:45pm.\\n#ElectionNigh...\n",
       "8       RT @IvankaTrump: Such a surreal moment to vote...\n",
       "9       RT @EricTrump: Join my family in this incredib...\n",
       "10      RT @DonaldJTrumpJr: FINAL PUSH! Eric and I doi...\n",
       "11      Still time to #VoteTrump!\\n#iVoted #ElectionNi...\n",
       "12      Dont let up, keep getting out to vote - this e...\n",
       "13      Just out according to @CNN: \"Utah officials re...\n",
       "14      I will be watching the election results from T...\n",
       "15      #ElectionDay https://t.co/MXrAxYnTjY https://t...\n",
       "16      We need your vote. Go to the POLLS! Lets conti...\n",
       "17      VOTE TODAY! Go to https://t.co/MXrAxYnTjY to f...\n",
       "18                     TODAY WE MAKE AMERICA GREAT AGAIN!\n",
       "19      Today we are going to win the great state of M...\n",
       "20      RT @EricTrump: Sean Hannity: If Hillary wins, ...\n",
       "21      RT @DonaldJTrumpJr: Thanks New Hampshire!!!\\n#...\n",
       "22      RT @detroitnews: .@IvankaTrump in Michigan: Th...\n",
       "23      Unbelievable evening in New Hampshire - THANK ...\n",
       "24      Big news to share in New Hampshire tonight! Po...\n",
       "25      Today in Florida, I pledged to stand with the ...\n",
       "26      Thank you Pennsylvania! Going to New Hampshire...\n",
       "27      LIVE on #Periscope: Join me for a few minutes ...\n",
       "28      Hey Missouri lets defeat Crooked Hillary &amp;...\n",
       "29      America must decide between failed policies or...\n",
       "                              ...                        \n",
       "7345    Leaving for New Hampshire now. Making a speech...\n",
       "7346    The Iran deal poses a direct national security...\n",
       "7347    The worst show in Las Vegas, in my opinion, is...\n",
       "7348    Dopey @Lawrence O۪Donnell, whose unwatchable s...\n",
       "7349    No deal is better than a bad deal. America out...\n",
       "7350    FLASHBACK  Donald Trump Blasts Obama for Faili...\n",
       "7351    Via @TIME by @ZekeJMiller: Trump Talks Politic...\n",
       "7352    Via @FSMtweet: Trump is Right: Illegal Alien C...\n",
       "7353    30,000 MACY۪S CUSTOMERS RETALIATE IN SUPPORT O...\n",
       "7354    Is this true about Univision and Fusion? Wow!?...\n",
       "7355    Via @BreitbartNews by Steve Bannon: ωTIME TO G...\n",
       "7356    \"@danforc  as a legal immigrant Im so glad som...\n",
       "7357    \"@ChristianInst @MorenoDadKC @BarbaraGarro The...\n",
       "7358       They are great people! https://t.co/7RTinwz1a8\n",
       "7359                   Thank you. https://t.co/iGNIDSqlfZ\n",
       "7360    \"@ChanRogers I literally give a fist pump when...\n",
       "7361    \"@pbstwo @RasmussenNews @realDonaldTrump @week...\n",
       "7362    \"@RasmussenNews @weeklystandard  Yea, but you ...\n",
       "7363    \"@MichaelPlu @realDonaldTrump @Macys we never ...\n",
       "7364    .@KarlRove wasted $400 million + and didn۪t wi...\n",
       "7365    .@FoxNews You shouldn۪t have @KarlRove on the ...\n",
       "7366    .@BradSteinle Great talking to you and your pa...\n",
       "7367    .@andydean2014 Thank you, you were great. You ...\n",
       "7368     \"@joshdronzek  @realDonaldTrump @Macys GO TRUMP\"\n",
       "7369    I hope the boycott of @Macys continues forever...\n",
       "7370    I loved firing goofball atheist Penn @pennjill...\n",
       "7371    I hear @pennjillette show on Broadway is terri...\n",
       "7372    Irrelevant clown @KarlRove sweats and shakes n...\n",
       "7373    \"@HoustonWelder: Donald Trump is one of the se...\n",
       "7374    RT @marklevinshow: Trump: Rove is a clown and ...\n",
       "Name: Tweet_Text, Length: 7375, dtype: object"
      ]
     },
     "execution_count": 7,
     "metadata": {},
     "output_type": "execute_result"
    }
   ],
   "source": [
    "Trump.Tweet_Text"
   ]
  },
  {
   "cell_type": "code",
   "execution_count": 68,
   "metadata": {
    "collapsed": true
   },
   "outputs": [],
   "source": [
    "trimSet = Trump.Tweet_Text\n",
    "trimSetLower = trimSet.str.lower()"
   ]
  },
  {
   "cell_type": "code",
   "execution_count": 69,
   "metadata": {},
   "outputs": [],
   "source": [
    "trimList = ['https']\n",
    "for i,line in enumerate(trimSetLower):\n",
    "    for trim in trimList:\n",
    "        if trim in line:\n",
    "            print(trim)\n",
    "            trimSetLower.drop(i,inplace=True)"
   ]
  },
  {
   "cell_type": "code",
   "execution_count": 75,
   "metadata": {},
   "outputs": [
    {
     "data": {
      "text/plain": [
       "count                          5094\n",
       "unique                         5083\n",
       "top       MAKE AMERICA GREAT AGAIN!\n",
       "freq                              9\n",
       "Name: Tweet_Text, dtype: object"
      ]
     },
     "execution_count": 75,
     "metadata": {},
     "output_type": "execute_result"
    }
   ],
   "source": [
    "trimSet.describe()"
   ]
  },
  {
   "cell_type": "code",
   "execution_count": 98,
   "metadata": {},
   "outputs": [],
   "source": [
    "raw_text = trimSetLower.str.cat(sep=' ')\n",
    "raw_text = raw_text[1:round(len(raw_text)/2)]"
   ]
  },
  {
   "cell_type": "code",
   "execution_count": 99,
   "metadata": {
    "collapsed": true
   },
   "outputs": [],
   "source": [
    "# create mapping of unique chars to integers\n",
    "chars = sorted(list(set(raw_text)))\n",
    "char_to_int = dict((c, i) for i, c in enumerate(chars))"
   ]
  },
  {
   "cell_type": "code",
   "execution_count": 100,
   "metadata": {},
   "outputs": [
    {
     "name": "stdout",
     "output_type": "stream",
     "text": [
      "Total Characters:  302565\n",
      "Total Vocab:  66\n"
     ]
    }
   ],
   "source": [
    "n_chars = len(raw_text)\n",
    "n_vocab = len(chars)\n",
    "print('Total Characters: ', n_chars)\n",
    "print(\"Total Vocab: \", n_vocab)"
   ]
  },
  {
   "cell_type": "code",
   "execution_count": 101,
   "metadata": {},
   "outputs": [
    {
     "name": "stdout",
     "output_type": "stream",
     "text": [
      "Total Patterns:  302535\n"
     ]
    }
   ],
   "source": [
    "# prepare the dataset of input to output pairs encoded as integers\n",
    "seq_length = 30\n",
    "dataX = []\n",
    "dataY = []\n",
    "for i in range(0, n_chars - seq_length, 1):\n",
    "\tseq_in = raw_text[i:i + seq_length]\n",
    "\tseq_out = raw_text[i + seq_length]\n",
    "\tdataX.append([char_to_int[char] for char in seq_in])\n",
    "\tdataY.append(char_to_int[seq_out])\n",
    "n_patterns = len(dataX)\n",
    "print(\"Total Patterns: \", n_patterns)"
   ]
  },
  {
   "cell_type": "code",
   "execution_count": 102,
   "metadata": {
    "collapsed": true
   },
   "outputs": [],
   "source": [
    "# reshape X to be [samples, time steps, features]\n",
    "X = numpy.reshape(dataX, (n_patterns, seq_length, 1))\n",
    "# normalize\n",
    "X = X / float(n_vocab)\n",
    "# one hot encode the output variable\n",
    "y = np_utils.to_categorical(dataY)"
   ]
  },
  {
   "cell_type": "code",
   "execution_count": 103,
   "metadata": {
    "collapsed": true
   },
   "outputs": [],
   "source": [
    "# define the LSTM model\n",
    "model = Sequential()\n",
    "model.add(LSTM(16, input_shape=(X.shape[1], X.shape[2])))\n",
    "model.add(Dropout(0.2))\n",
    "model.add(Dense(y.shape[1], activation='softmax'))\n",
    "model.compile(loss='categorical_crossentropy', optimizer='adam')"
   ]
  },
  {
   "cell_type": "code",
   "execution_count": 104,
   "metadata": {
    "collapsed": true
   },
   "outputs": [],
   "source": [
    "# define the checkpoint\n",
    "filepath=\"weights-improvement-{epoch:02d}-{loss:.4f}.hdf5\"\n",
    "checkpoint = ModelCheckpoint(filepath, monitor='loss', verbose=1, save_best_only=True, mode='min')\n",
    "callbacks_list = [checkpoint]"
   ]
  },
  {
   "cell_type": "code",
   "execution_count": 105,
   "metadata": {},
   "outputs": [
    {
     "name": "stdout",
     "output_type": "stream",
     "text": [
      "Epoch 1/3\n",
      "302464/302535 [============================>.] - ETA: 0s - loss: 3.1323Epoch 00000: loss improved from inf to 3.13225, saving model to weights-improvement-00-3.1323.hdf5\n",
      "302535/302535 [==============================] - 169s - loss: 3.1323   \n",
      "Epoch 2/3\n",
      "302464/302535 [============================>.] - ETA: 0s - loss: 3.0276Epoch 00001: loss improved from 3.13225 to 3.02756, saving model to weights-improvement-01-3.0276.hdf5\n",
      "302535/302535 [==============================] - 167s - loss: 3.0276   \n",
      "Epoch 3/3\n",
      "302464/302535 [============================>.] - ETA: 0s - loss: 2.9711Epoch 00002: loss improved from 3.02756 to 2.97115, saving model to weights-improvement-02-2.9711.hdf5\n",
      "302535/302535 [==============================] - 166s - loss: 2.9711   \n"
     ]
    },
    {
     "data": {
      "text/plain": [
       "<keras.callbacks.History at 0x16a26e9b0>"
      ]
     },
     "execution_count": 105,
     "metadata": {},
     "output_type": "execute_result"
    }
   ],
   "source": [
    "model.fit(X, y, epochs=3, batch_size=128, callbacks=callbacks_list)"
   ]
  },
  {
   "cell_type": "code",
   "execution_count": 106,
   "metadata": {
    "collapsed": true
   },
   "outputs": [],
   "source": [
    "int_to_char = dict((i, c) for i, c in enumerate(chars))"
   ]
  },
  {
   "cell_type": "code",
   "execution_count": 110,
   "metadata": {},
   "outputs": [
    {
     "name": "stdout",
     "output_type": "stream",
     "text": [
      "Seed:\n",
      "\" ned to that 30% ceiling \"@ilea \"\n",
      "  aoe  aoe  aoe  aoe  aoe  aoe  aoe  aoe  aoe  aoe  aoe  aoe  aoe  aoe  aoe  aoe  aoe  aoe  aoe  aoe  aoe  aoe  aoe  aoe  aoe  aoe  aoe  aoe  aoe  aoe  aoe  aoe  aoe  aoe  aoe  aoe  aoe  aoe  aoe  aoe  aoe  aoe  aoe  aoe  aoe  aoe  aoe  aoe  aoe  aoe  aoe  aoe  aoe  aoe  aoe  aoe\n",
      "Done.\n"
     ]
    }
   ],
   "source": [
    "# pick a random seed\n",
    "import sys\n",
    "start = numpy.random.randint(0, len(dataX)-1)\n",
    "pattern = dataX[start]\n",
    "print(\"Seed:\")\n",
    "print(\"\\\"\", ''.join([int_to_char[value] for value in pattern]), \"\\\"\")\n",
    "# generate characters\n",
    "for i in range(280):\n",
    "    x = numpy.reshape(pattern, (1, len(pattern), 1))\n",
    "    x = x / float(n_vocab)\n",
    "    prediction = model.predict(x, verbose=0)\n",
    "    index = numpy.argmax(prediction)\n",
    "    result = int_to_char[index]\n",
    "    seq_in = [int_to_char[value] for value in pattern]\n",
    "    sys.stdout.write(result)\n",
    "    pattern.append(index)\n",
    "    pattern = pattern[1:len(pattern)]\n",
    "print(\"\\nDone.\")"
   ]
  },
  {
   "cell_type": "code",
   "execution_count": null,
   "metadata": {
    "collapsed": true
   },
   "outputs": [],
   "source": []
  }
 ],
 "metadata": {
  "kernelspec": {
   "display_name": "Python 3",
   "language": "python",
   "name": "python3"
  },
  "language_info": {
   "codemirror_mode": {
    "name": "ipython",
    "version": 3
   },
   "file_extension": ".py",
   "mimetype": "text/x-python",
   "name": "python",
   "nbconvert_exporter": "python",
   "pygments_lexer": "ipython3",
   "version": "3.6.1"
  }
 },
 "nbformat": 4,
 "nbformat_minor": 2
}
